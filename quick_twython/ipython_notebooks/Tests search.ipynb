{
 "cells": [
  {
   "cell_type": "markdown",
   "metadata": {},
   "source": [
    "**Conclusions**\n",
    "- les majuscules ne jouent aucun rôle : \"Bob Dylan\" et \"bob dylan\" sont équivalents\n",
    "- les accents ne jouent aucun rôle : \"Israël\" et \"Israel\" sont équivalents\n",
    "- \"Bobdylan\" inclut à la fois Bobdylan, #BobDylan et @BobDylan\n",
    "- par contre \"Bob Dylan\" n'inclut pas #BobDylan\n",
    "\n",
    "- faire un search sur une url ne renvoit rien"
   ]
  },
  {
   "cell_type": "code",
   "execution_count": 5,
   "metadata": {
    "collapsed": false
   },
   "outputs": [],
   "source": [
    "from twython import Twython\n",
    "from config import *"
   ]
  },
  {
   "cell_type": "code",
   "execution_count": 40,
   "metadata": {
    "collapsed": false
   },
   "outputs": [],
   "source": [
    "key = ACCESS[0]\n",
    "twitter = Twython(\n",
    "        key[\"consumer_key\"],\n",
    "        key[\"consumer_secret\"],\n",
    "        key[\"oauth_token\"],\n",
    "        key[\"oauth_token_secret\"]\n",
    "        )\n",
    "queries = [\"fb.me/49Zf0ohFd\"]\n",
    "results = []\n",
    "for query in queries:\n",
    "    tweets_text = twitter.search(\n",
    "            q = query, \n",
    "            lang = \"fr\",\n",
    "            max_id = 786583763920846848, \n",
    "            since_id = 786384173489594368\n",
    "            )\n",
    "    results.append(tweets_text['statuses'])\n"
   ]
  },
  {
   "cell_type": "code",
   "execution_count": 41,
   "metadata": {
    "collapsed": false
   },
   "outputs": [
    {
     "name": "stdout",
     "output_type": "stream",
     "text": [
      "fb.me/49Zf0ohFd\n",
      "\n"
     ]
    }
   ],
   "source": [
    "for title, result in enumerate(results):\n",
    "    print(queries[title])\n",
    "    for tweet in result:\n",
    "        print(title, tweet[\"id\"])\n",
    "    print('')"
   ]
  },
  {
   "cell_type": "code",
   "execution_count": null,
   "metadata": {
    "collapsed": true
   },
   "outputs": [],
   "source": []
  }
 ],
 "metadata": {
  "anaconda-cloud": {},
  "kernelspec": {
   "display_name": "Python [Root]",
   "language": "python",
   "name": "Python [Root]"
  },
  "language_info": {
   "codemirror_mode": {
    "name": "ipython",
    "version": 3
   },
   "file_extension": ".py",
   "mimetype": "text/x-python",
   "name": "python",
   "nbconvert_exporter": "python",
   "pygments_lexer": "ipython3",
   "version": "3.5.2"
  }
 },
 "nbformat": 4,
 "nbformat_minor": 0
}
